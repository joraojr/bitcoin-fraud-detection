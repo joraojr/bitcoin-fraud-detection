{
 "cells": [
  {
   "cell_type": "code",
   "execution_count": 1,
   "id": "99ccb559-c7a0-49a9-9430-ef133cce9821",
   "metadata": {
    "pycharm": {
     "name": "#%%\n"
    }
   },
   "outputs": [],
   "source": [
    "import pandas as pd\n",
    "import numpy as np\n",
    "import matplotlib.pyplot as plt\n",
    "import glob\n",
    "import seaborn as sns"
   ]
  },
  {
   "cell_type": "code",
   "execution_count": 2,
   "id": "d5af4c36-621c-487b-955a-4fb9ccae8d99",
   "metadata": {
    "pycharm": {
     "name": "#%%\n"
    }
   },
   "outputs": [
    {
     "name": "stdout",
     "output_type": "stream",
     "text": [
      "\n",
      " Loading data\n",
      "\n",
      " End loading data\n"
     ]
    }
   ],
   "source": [
    "#df = pd.read_csv(\"data/testdata_000000000001.csv\", index_col=\"clusterid\")\n",
    "print(\"\\n Loading data\")\n",
    "df = pd.read_csv(\"new_data/preprocessing_data_scaler.csv\",index_col=\"clusterid\",dtype=np.float32)\n",
    "df.index = df.index.map(int)\n",
    "print(\"\\n End loading data\")\n"
   ]
  },
  {
   "cell_type": "code",
   "execution_count": 3,
   "id": "98eb4131-73b8-486d-9a20-a555476b9d62",
   "metadata": {
    "pycharm": {
     "name": "#%%\n"
    }
   },
   "outputs": [
    {
     "name": "stdout",
     "output_type": "stream",
     "text": [
      "<class 'pandas.core.frame.DataFrame'>\n",
      "Float64Index: 437585954 entries, 243922944.0 to 911556736.0\n",
      "Data columns (total 8 columns):\n",
      " #   Column  Non-Null Count      Dtype  \n",
      "---  ------  --------------      -----  \n",
      " 0   OTD     437585954 non-null  float32\n",
      " 1   IND     437585954 non-null  float32\n",
      " 2   ACT     437585954 non-null  float32\n",
      " 3   DACT    437585954 non-null  float32\n",
      " 4   TAR     437585954 non-null  float32\n",
      " 5   AAR     437585954 non-null  float32\n",
      " 6   TAS     437585954 non-null  float32\n",
      " 7   AAS     437585954 non-null  float32\n",
      "dtypes: float32(8)\n",
      "memory usage: 16.3 GB\n"
     ]
    }
   ],
   "source": [
    "df.info(show_counts=True)"
   ]
  },
  {
   "cell_type": "code",
   "execution_count": 4,
   "id": "642bdfdc-587e-4f28-9a4b-5b69bb11ed09",
   "metadata": {},
   "outputs": [
    {
     "name": "stdout",
     "output_type": "stream",
     "text": [
      "Init 1/3 with method k-means++\n",
      "Inertia for init 1/3: 5855486.0\n",
      "Init 2/3 with method k-means++\n",
      "Inertia for init 2/3: 18579434.0\n",
      "Init 3/3 with method k-means++\n",
      "Inertia for init 3/3: 9603307.0\n",
      "[MiniBatchKMeans] Reassigning 91 cluster centers.\n",
      "Minibatch step 1/42733003: mean batch inertia: 16908.533203125\n",
      "Minibatch step 2/42733003: mean batch inertia: 7519.6767578125, ewa inertia: 7519.6767578125\n",
      "Minibatch step 3/42733003: mean batch inertia: 15279.7900390625, ewa inertia: 7519.7130768758025\n",
      "Minibatch step 4/42733003: mean batch inertia: 783552.9375, ewa inertia: 7523.345085685634\n",
      "Minibatch step 5/42733003: mean batch inertia: 182372.0, ewa inertia: 7524.163416441394\n",
      "Minibatch step 6/42733003: mean batch inertia: 3988.2978515625, ewa inertia: 7524.146867800849\n",
      "Minibatch step 7/42733003: mean batch inertia: 1389351.0, ewa inertia: 7530.614126091199\n",
      "Minibatch step 8/42733003: mean batch inertia: 1361708.75, ewa inertia: 7536.951982209707\n",
      "Minibatch step 9/42733003: mean batch inertia: 11791.52734375, ewa inertia: 7536.971894572618\n",
      "Minibatch step 10/42733003: mean batch inertia: 17516658.0, ewa inertia: 7618.918491477356\n",
      "Minibatch step 11/42733003: mean batch inertia: 264448.25, ewa inertia: 7620.120510109168\n",
      "Minibatch step 12/42733003: mean batch inertia: 86848.7109375, ewa inertia: 7620.49131760731\n",
      "Converged (lack of improvement in inertia) at step 12/42733003\n"
     ]
    }
   ],
   "source": [
    "from sklearn.cluster import MiniBatchKMeans\n",
    "\n",
    "kmeans = MiniBatchKMeans(n_clusters=100, random_state=42,verbose=100).fit(df)\n"
   ]
  },
  {
   "cell_type": "code",
   "execution_count": 8,
   "id": "f8695f8d-2121-4288-9622-549db95d370a",
   "metadata": {},
   "outputs": [],
   "source": [
    "df[\"labels\"] = labels = kmeans.labels_"
   ]
  },
  {
   "cell_type": "code",
   "execution_count": null,
   "id": "42d6a69d-dbaf-49c2-95fb-ac4dd96e81c5",
   "metadata": {},
   "outputs": [],
   "source": [
    "# from sklearn import metrics\n",
    "\n",
    "# print(\"Silhouette Coefficient: %0.3f\" % metrics.silhouette_score(df, kmeans.labels_))\n",
    "\n",
    "# print(\"\\n Ending Metrics\")"
   ]
  },
  {
   "cell_type": "code",
   "execution_count": null,
   "id": "4b3e1a60-bc33-4734-944a-0d0a20acc576",
   "metadata": {},
   "outputs": [],
   "source": [
    "# from yellowbrick.cluster import KElbowVisualizer\n",
    "# # Instantiate the clustering model and visualizer\n",
    "# model = MiniBatchKMeans(n_clusters=10000, random_state=42,verbose=100)\n",
    "\n",
    "# visualizer = KElbowVisualizer(model, k=list(10**i for i in range(0,6)))\n",
    "\n",
    "# visualizer.fit(df)        # Fit the data to the visualizer\n",
    "# visualizer.show()        # Finalize and render the figure"
   ]
  },
  {
   "cell_type": "code",
   "execution_count": null,
   "id": "1ca789c3-96bd-40e4-afff-ca9b01058678",
   "metadata": {},
   "outputs": [],
   "source": [
    "# # Compute OPTICS\n",
    "# print(\"\\n Starting OPTICS\")\n",
    "# from sklearn import metrics\n",
    "# from sklearn.cluster import OPTICS\n",
    "# db = OPTICS(n_jobs=-1,min_samples=100,max_eps=0.1).fit(sample)\n",
    "# print(\"\\n Ending OPTICS\")\n"
   ]
  },
  {
   "cell_type": "code",
   "execution_count": null,
   "id": "e0a087ed-167f-4daa-ad3a-560a35c68154",
   "metadata": {
    "pycharm": {
     "name": "#%%\n"
    }
   },
   "outputs": [
    {
     "name": "stdout",
     "output_type": "stream",
     "text": [
      "\n",
      " Starting DBSCAN\n"
     ]
    }
   ],
   "source": [
    "# # Compute DBSCAN\n",
    "# print(\"\\n Starting DBSCAN\")\n",
    "# from sklearn import metrics\n",
    "# from sklearn.cluster import DBSCAN\n",
    "# db = DBSCAN(eps=0.0001, min_samples=100,n_jobs=1).fit(sample)\n",
    "# print(\"\\n Ending DBSCAN\")\n"
   ]
  },
  {
   "cell_type": "code",
   "execution_count": null,
   "id": "b8d8a506-c290-4cc3-9df3-7b68032c4653",
   "metadata": {},
   "outputs": [],
   "source": [
    "# # metrics\n",
    "# print(\"\\nStarting Metrics\")\n",
    "\n",
    "# core_samples_mask = np.zeros_like(db.labels_, dtype=bool)\n",
    "# core_samples_mask[db.core_sample_indices_] = True\n",
    "\n",
    "# df[\"labels\"] = labels = db.labels_\n",
    "\n",
    "# # Number of clusters in labels, ignoring noise if present.\n",
    "# n_clusters_ = len(set(labels)) - (1 if -1 in labels else 0)\n",
    "# n_noise_ = list(labels).count(-1)\n",
    "\n",
    "# print(\"Estimated number of clusters: %d\" % n_clusters_)\n",
    "# print(\"Estimated number of noise points: %d\" % n_noise_)\n",
    "# #print(\"Homogeneity: %0.3f\" % metrics.homogeneity_score(labels_true, labels))\n",
    "# #print(\"Completeness: %0.3f\" % metrics.completeness_score(labels_true, labels))\n",
    "# #print(\"V-measure: %0.3f\" % metrics.v_measure_score(labels_true, labels))\n",
    "# #print(\"Adjusted Rand Index: %0.3f\" % metrics.adjusted_rand_score(labels_true, labels))\n",
    "# #print(\n",
    "# #    \"Adjusted Mutual Information: %0.3f\"\n",
    "# #    % metrics.adjusted_mutual_info_score(labels_true, labels)\n",
    "# #)\n",
    "# #print(\"Silhouette Coefficient: %0.3f\" % metrics.silhouette_score(sample, labels))\n",
    "\n",
    "# print(\"\\n Ending Metrics\")\n"
   ]
  },
  {
   "cell_type": "code",
   "execution_count": 9,
   "id": "45442714-54c3-499e-8bef-23118dd4523d",
   "metadata": {
    "pycharm": {
     "name": "#%%\n"
    }
   },
   "outputs": [
    {
     "data": {
      "text/plain": [
       "-1       42680312\n",
       " 4          32535\n",
       " 52         24319\n",
       " 20         23225\n",
       " 18         20202\n",
       "           ...   \n",
       " 1107         100\n",
       " 279          100\n",
       " 2449         100\n",
       " 2051         100\n",
       " 2372         100\n",
       "Name: labels, Length: 2642, dtype: int64"
      ]
     },
     "execution_count": 9,
     "metadata": {},
     "output_type": "execute_result"
    }
   ],
   "source": [
    "# sample.labels.value_counts()"
   ]
  },
  {
   "cell_type": "code",
   "execution_count": 12,
   "id": "4a5c3264-8d2c-4047-96c0-cb8708c0f235",
   "metadata": {
    "pycharm": {
     "name": "#%%\n"
    }
   },
   "outputs": [
    {
     "name": "stdout",
     "output_type": "stream",
     "text": [
      "\n",
      " Ploting Results\n"
     ]
    },
    {
     "data": {
      "image/png": "[encoded data removed]",
      "text/plain": [
       "<Figure size 1440x720 with 1 Axes>"
      ]
     },
     "metadata": {
      "needs_background": "light"
     },
     "output_type": "display_data"
    },
    {
     "name": "stdout",
     "output_type": "stream",
     "text": [
      "\n",
      " Ending Results\n"
     ]
    }
   ],
   "source": [
    "# # #############################################################################\n",
    "# # Plot result\n",
    "# print(\"\\n Ploting Results\")\n",
    "\n",
    "# import matplotlib.pyplot as plt\n",
    "\n",
    "# # Black removed and is used for noise instead.\n",
    "# unique_labels = set(labels)\n",
    "# colors = [plt.cm.Spectral(each) for each in np.linspace(0, 1, len(unique_labels))]\n",
    "\n",
    "# fig = plt.figure(figsize=(20,10))\n",
    "# ax = plt.gca()\n",
    "\n",
    "# for k, col in zip(unique_labels, colors):\n",
    "#     if k == -1:\n",
    "#         # Black used for noise.\n",
    "#         col = [0, 0, 0, 1]\n",
    "\n",
    "#     class_member_mask = labels == k\n",
    "\n",
    "#     xy = sample[class_member_mask & core_samples_mask]\n",
    "#     plt.plot(xy.OTD,xy.IND,\"o\",markerfacecolor=tuple(col),markeredgecolor=\"k\",markersize=14)\n",
    "\n",
    "#     xy = sample[class_member_mask & ~core_samples_mask]\n",
    "#     plt.plot(xy.OTD, xy.IND,\"o\",markerfacecolor=tuple(col),markeredgecolor=\"k\",markersize=6)\n",
    "\n",
    "# ax.set_yscale('log')\n",
    "# ax.set_xscale('log')\n",
    "\n",
    "# plt.title(\"LogxLog DBScan results \\n Estimated number of clusters: %d\" % n_clusters_)\n",
    "\n",
    "# plt.xlabel(\"Out Degree\") # X-axis label\n",
    "# plt.ylabel(\"In Degree\") # Y-axis label\n",
    "\n",
    "# plt.savefig(\"clustering.pdf\")\n",
    "# plt.show()\n",
    "\n",
    "# print(\"\\n Ending Results\")\n"
   ]
  },
  {
   "cell_type": "code",
   "execution_count": 11,
   "id": "238dee8d-fd36-44f8-9ade-01d8401fbf4a",
   "metadata": {
    "pycharm": {
     "name": "#%%\n"
    }
   },
   "outputs": [
    {
     "data": {
      "text/html": [
       "<div>\n",
       "<style scoped>\n",
       "    .dataframe tbody tr th:only-of-type {\n",
       "        vertical-align: middle;\n",
       "    }\n",
       "\n",
       "    .dataframe tbody tr th {\n",
       "        vertical-align: top;\n",
       "    }\n",
       "\n",
       "    .dataframe thead th {\n",
       "        text-align: right;\n",
       "    }\n",
       "</style>\n",
       "<table border=\"1\" class=\"dataframe\">\n",
       "  <thead>\n",
       "    <tr style=\"text-align: right;\">\n",
       "      <th></th>\n",
       "      <th>out_degree</th>\n",
       "      <th>in_degree</th>\n",
       "      <th>active_days</th>\n",
       "      <th>degree_per_active_day</th>\n",
       "      <th>total_amount_received</th>\n",
       "      <th>avg_amount_received</th>\n",
       "      <th>total_amount_sent</th>\n",
       "      <th>avg_amount_sent</th>\n",
       "      <th>labels</th>\n",
       "    </tr>\n",
       "    <tr>\n",
       "      <th>clusterid</th>\n",
       "      <th></th>\n",
       "      <th></th>\n",
       "      <th></th>\n",
       "      <th></th>\n",
       "      <th></th>\n",
       "      <th></th>\n",
       "      <th></th>\n",
       "      <th></th>\n",
       "      <th></th>\n",
       "    </tr>\n",
       "  </thead>\n",
       "  <tbody>\n",
       "    <tr>\n",
       "      <th>29481527</th>\n",
       "      <td>2</td>\n",
       "      <td>2</td>\n",
       "      <td>1</td>\n",
       "      <td>2.0</td>\n",
       "      <td>1105414</td>\n",
       "      <td>5.527070e+05</td>\n",
       "      <td>2173528</td>\n",
       "      <td>1086764.0</td>\n",
       "      <td>-1</td>\n",
       "    </tr>\n",
       "    <tr>\n",
       "      <th>95567879</th>\n",
       "      <td>1</td>\n",
       "      <td>3</td>\n",
       "      <td>1</td>\n",
       "      <td>3.0</td>\n",
       "      <td>1145872445</td>\n",
       "      <td>1.145872e+09</td>\n",
       "      <td>1145822445</td>\n",
       "      <td>381940815.0</td>\n",
       "      <td>-1</td>\n",
       "    </tr>\n",
       "    <tr>\n",
       "      <th>168364763</th>\n",
       "      <td>1</td>\n",
       "      <td>2</td>\n",
       "      <td>1</td>\n",
       "      <td>2.0</td>\n",
       "      <td>4867395</td>\n",
       "      <td>4.867395e+06</td>\n",
       "      <td>4830421</td>\n",
       "      <td>2415210.5</td>\n",
       "      <td>-1</td>\n",
       "    </tr>\n",
       "    <tr>\n",
       "      <th>117064969</th>\n",
       "      <td>5</td>\n",
       "      <td>2</td>\n",
       "      <td>1</td>\n",
       "      <td>2.0</td>\n",
       "      <td>11158117</td>\n",
       "      <td>2.231623e+06</td>\n",
       "      <td>23741990</td>\n",
       "      <td>11870995.0</td>\n",
       "      <td>-1</td>\n",
       "    </tr>\n",
       "    <tr>\n",
       "      <th>7382814</th>\n",
       "      <td>2</td>\n",
       "      <td>2</td>\n",
       "      <td>1</td>\n",
       "      <td>2.0</td>\n",
       "      <td>108033209</td>\n",
       "      <td>5.401660e+07</td>\n",
       "      <td>118366418</td>\n",
       "      <td>59183209.0</td>\n",
       "      <td>-1</td>\n",
       "    </tr>\n",
       "  </tbody>\n",
       "</table>\n",
       "</div>"
      ],
      "text/plain": [
       "           out_degree  in_degree  active_days  degree_per_active_day  \\\n",
       "clusterid                                                              \n",
       "29481527            2          2            1                    2.0   \n",
       "95567879            1          3            1                    3.0   \n",
       "168364763           1          2            1                    2.0   \n",
       "117064969           5          2            1                    2.0   \n",
       "7382814             2          2            1                    2.0   \n",
       "\n",
       "           total_amount_received  avg_amount_received  total_amount_sent  \\\n",
       "clusterid                                                                  \n",
       "29481527                 1105414         5.527070e+05            2173528   \n",
       "95567879              1145872445         1.145872e+09         1145822445   \n",
       "168364763                4867395         4.867395e+06            4830421   \n",
       "117064969               11158117         2.231623e+06           23741990   \n",
       "7382814                108033209         5.401660e+07          118366418   \n",
       "\n",
       "           avg_amount_sent  labels  \n",
       "clusterid                           \n",
       "29481527         1086764.0      -1  \n",
       "95567879       381940815.0      -1  \n",
       "168364763        2415210.5      -1  \n",
       "117064969       11870995.0      -1  \n",
       "7382814         59183209.0      -1  "
      ]
     },
     "execution_count": 11,
     "metadata": {},
     "output_type": "execute_result"
    }
   ],
   "source": [
    "df.head()"
   ]
  },
  {
   "cell_type": "code",
   "execution_count": 12,
   "id": "65469933",
   "metadata": {
    "collapsed": false,
    "jupyter": {
     "outputs_hidden": false
    },
    "pycharm": {
     "name": "#%%\n"
    }
   },
   "outputs": [
    {
     "name": "stdout",
     "output_type": "stream",
     "text": [
      "\n",
      " Saving Results\n",
      "\n",
      " Results save\n"
     ]
    }
   ],
   "source": [
    "print(\"\\n Saving Results\")\n",
    "\n",
    "df.labels.to_csv(\"clustering_results.csv\")\n",
    "\n",
    "print(\"\\n Results save\")\n"
   ]
  }
 ],
 "metadata": {
  "kernelspec": {
   "display_name": "Python 3 (ipykernel)",
   "language": "python",
   "name": "python3"
  },
  "language_info": {
   "codemirror_mode": {
    "name": "ipython",
    "version": 3
   },
   "file_extension": ".py",
   "mimetype": "text/x-python",
   "name": "python",
   "nbconvert_exporter": "python",
   "pygments_lexer": "ipython3",
   "version": "3.9.12"
  }
 },
 "nbformat": 4,
 "nbformat_minor": 5
}
