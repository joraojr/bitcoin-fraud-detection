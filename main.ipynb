{
 "cells": [
  {
   "cell_type": "code",
   "execution_count": 1,
   "id": "99ccb559-c7a0-49a9-9430-ef133cce9821",
   "metadata": {},
   "outputs": [],
   "source": [
    "import pandas as pd\n",
    "import numpy as np\n",
    "import matplotlib.pyplot as plt\n",
    "import glob\n",
    "import seaborn as sns"
   ]
  },
  {
   "cell_type": "code",
   "execution_count": 2,
   "id": "d5af4c36-621c-487b-955a-4fb9ccae8d99",
   "metadata": {},
   "outputs": [],
   "source": [
    "#df = pd.read_csv(\"data/testdata_000000000000.csv\", index_col=\"clusterid\",dtype=np.uint32)\n",
    "df = pd.concat([pd.read_csv(f,dtype=np.uint32,index_col=\"clusterid\") for f in glob.glob('data/testdata_*.csv')])"
   ]
  },
  {
   "cell_type": "code",
   "execution_count": 3,
   "id": "b5685ffa-0ec6-4aec-ae7d-b5128668dfec",
   "metadata": {},
   "outputs": [
    {
     "data": {
      "text/html": [
       "<div>\n",
       "<style scoped>\n",
       "    .dataframe tbody tr th:only-of-type {\n",
       "        vertical-align: middle;\n",
       "    }\n",
       "\n",
       "    .dataframe tbody tr th {\n",
       "        vertical-align: top;\n",
       "    }\n",
       "\n",
       "    .dataframe thead th {\n",
       "        text-align: right;\n",
       "    }\n",
       "</style>\n",
       "<table border=\"1\" class=\"dataframe\">\n",
       "  <thead>\n",
       "    <tr style=\"text-align: right;\">\n",
       "      <th></th>\n",
       "      <th>out_degree</th>\n",
       "      <th>in_degree</th>\n",
       "      <th>total_degree</th>\n",
       "    </tr>\n",
       "    <tr>\n",
       "      <th>clusterid</th>\n",
       "      <th></th>\n",
       "      <th></th>\n",
       "      <th></th>\n",
       "    </tr>\n",
       "  </thead>\n",
       "  <tbody>\n",
       "    <tr>\n",
       "      <th>20</th>\n",
       "      <td>38887182</td>\n",
       "      <td>23566625</td>\n",
       "      <td>62453807</td>\n",
       "    </tr>\n",
       "    <tr>\n",
       "      <th>121</th>\n",
       "      <td>11096220</td>\n",
       "      <td>19351778</td>\n",
       "      <td>30447998</td>\n",
       "    </tr>\n",
       "    <tr>\n",
       "      <th>991</th>\n",
       "      <td>15621598</td>\n",
       "      <td>14212803</td>\n",
       "      <td>29834401</td>\n",
       "    </tr>\n",
       "    <tr>\n",
       "      <th>803899</th>\n",
       "      <td>11724699</td>\n",
       "      <td>12809421</td>\n",
       "      <td>24534120</td>\n",
       "    </tr>\n",
       "    <tr>\n",
       "      <th>5658</th>\n",
       "      <td>1180037</td>\n",
       "      <td>15362480</td>\n",
       "      <td>16542517</td>\n",
       "    </tr>\n",
       "    <tr>\n",
       "      <th>23206283</th>\n",
       "      <td>4013243</td>\n",
       "      <td>11619790</td>\n",
       "      <td>15633033</td>\n",
       "    </tr>\n",
       "    <tr>\n",
       "      <th>55</th>\n",
       "      <td>7607983</td>\n",
       "      <td>7386209</td>\n",
       "      <td>14994192</td>\n",
       "    </tr>\n",
       "    <tr>\n",
       "      <th>8</th>\n",
       "      <td>10583127</td>\n",
       "      <td>3732905</td>\n",
       "      <td>14316032</td>\n",
       "    </tr>\n",
       "    <tr>\n",
       "      <th>2959</th>\n",
       "      <td>8423944</td>\n",
       "      <td>5870729</td>\n",
       "      <td>14294673</td>\n",
       "    </tr>\n",
       "    <tr>\n",
       "      <th>42</th>\n",
       "      <td>7694595</td>\n",
       "      <td>5491326</td>\n",
       "      <td>13185921</td>\n",
       "    </tr>\n",
       "  </tbody>\n",
       "</table>\n",
       "</div>"
      ],
      "text/plain": [
       "           out_degree  in_degree  total_degree\n",
       "clusterid                                     \n",
       "20           38887182   23566625      62453807\n",
       "121          11096220   19351778      30447998\n",
       "991          15621598   14212803      29834401\n",
       "803899       11724699   12809421      24534120\n",
       "5658          1180037   15362480      16542517\n",
       "23206283      4013243   11619790      15633033\n",
       "55            7607983    7386209      14994192\n",
       "8            10583127    3732905      14316032\n",
       "2959          8423944    5870729      14294673\n",
       "42            7694595    5491326      13185921"
      ]
     },
     "execution_count": 3,
     "metadata": {},
     "output_type": "execute_result"
    }
   ],
   "source": [
    "df.head(10)"
   ]
  },
  {
   "cell_type": "code",
   "execution_count": 4,
   "id": "98eb4131-73b8-486d-9a20-a555476b9d62",
   "metadata": {},
   "outputs": [
    {
     "name": "stdout",
     "output_type": "stream",
     "text": [
      "<class 'pandas.core.frame.DataFrame'>\n",
      "UInt64Index: 76742089 entries, 20 to 822614669\n",
      "Data columns (total 3 columns):\n",
      " #   Column        Non-Null Count     Dtype \n",
      "---  ------        --------------     ----- \n",
      " 0   out_degree    76742089 non-null  uint32\n",
      " 1   in_degree     76742089 non-null  uint32\n",
      " 2   total_degree  76742089 non-null  uint32\n",
      "dtypes: uint32(3)\n",
      "memory usage: 1.4 GB\n"
     ]
    }
   ],
   "source": [
    "df.info(show_counts=True)"
   ]
  },
  {
   "cell_type": "code",
   "execution_count": 5,
   "id": "a0d566ce-433c-4b0f-8912-83d10799d341",
   "metadata": {},
   "outputs": [
    {
     "data": {
      "image/png": "[encoded data removed]",
      "text/plain": [
       "<Figure size 432x288 with 2 Axes>"
      ]
     },
     "metadata": {
      "needs_background": "light"
     },
     "output_type": "display_data"
    }
   ],
   "source": [
    "corr = df.corr().abs()\n",
    "\n",
    "hm = sns.heatmap(corr, annot = True, fmt=\"0.3f\",  mask = ~np.tril(np.ones(corr.shape)).astype(bool))\n",
    "\n",
    "hm.set(xlabel='\\nDataset features', ylabel='\\nDataset featurest', title = \"Correlation matrix of Bitcoin 2009-2022 features\\n\")\n",
    "\n",
    "plt.show()"
   ]
  },
  {
   "cell_type": "code",
   "execution_count": 6,
   "id": "71085f5e-07b0-4359-9a75-bfa253947325",
   "metadata": {},
   "outputs": [
    {
     "name": "stdout",
     "output_type": "stream",
     "text": [
      "Removing strong correlated columns: ['total_degree']\n"
     ]
    },
    {
     "data": {
      "text/html": [
       "<div>\n",
       "<style scoped>\n",
       "    .dataframe tbody tr th:only-of-type {\n",
       "        vertical-align: middle;\n",
       "    }\n",
       "\n",
       "    .dataframe tbody tr th {\n",
       "        vertical-align: top;\n",
       "    }\n",
       "\n",
       "    .dataframe thead th {\n",
       "        text-align: right;\n",
       "    }\n",
       "</style>\n",
       "<table border=\"1\" class=\"dataframe\">\n",
       "  <thead>\n",
       "    <tr style=\"text-align: right;\">\n",
       "      <th></th>\n",
       "      <th>out_degree</th>\n",
       "      <th>in_degree</th>\n",
       "    </tr>\n",
       "    <tr>\n",
       "      <th>clusterid</th>\n",
       "      <th></th>\n",
       "      <th></th>\n",
       "    </tr>\n",
       "  </thead>\n",
       "  <tbody>\n",
       "    <tr>\n",
       "      <th>20</th>\n",
       "      <td>38887182</td>\n",
       "      <td>23566625</td>\n",
       "    </tr>\n",
       "    <tr>\n",
       "      <th>121</th>\n",
       "      <td>11096220</td>\n",
       "      <td>19351778</td>\n",
       "    </tr>\n",
       "    <tr>\n",
       "      <th>991</th>\n",
       "      <td>15621598</td>\n",
       "      <td>14212803</td>\n",
       "    </tr>\n",
       "    <tr>\n",
       "      <th>803899</th>\n",
       "      <td>11724699</td>\n",
       "      <td>12809421</td>\n",
       "    </tr>\n",
       "    <tr>\n",
       "      <th>5658</th>\n",
       "      <td>1180037</td>\n",
       "      <td>15362480</td>\n",
       "    </tr>\n",
       "  </tbody>\n",
       "</table>\n",
       "</div>"
      ],
      "text/plain": [
       "           out_degree  in_degree\n",
       "clusterid                       \n",
       "20           38887182   23566625\n",
       "121          11096220   19351778\n",
       "991          15621598   14212803\n",
       "803899       11724699   12809421\n",
       "5658          1180037   15362480"
      ]
     },
     "metadata": {},
     "output_type": "display_data"
    },
    {
     "name": "stdout",
     "output_type": "stream",
     "text": [
      "<class 'pandas.core.frame.DataFrame'>\n",
      "UInt64Index: 76742089 entries, 20 to 822614669\n",
      "Data columns (total 2 columns):\n",
      " #   Column      Non-Null Count     Dtype \n",
      "---  ------      --------------     ----- \n",
      " 0   out_degree  76742089 non-null  uint32\n",
      " 1   in_degree   76742089 non-null  uint32\n",
      "dtypes: uint32(2)\n",
      "memory usage: 1.1 GB\n"
     ]
    },
    {
     "data": {
      "text/plain": [
       "None"
      ]
     },
     "metadata": {},
     "output_type": "display_data"
    }
   ],
   "source": [
    "from sklearn.preprocessing import StandardScaler, MinMaxScaler\n",
    "\n",
    "upper_tri = corr.where(np.triu(np.ones(corr.shape), k=1).astype(bool))\n",
    "\n",
    "# Correlation >=0.8 can 'confuse the model' and were extracted\n",
    "to_drop = [column for column in upper_tri.columns if any(upper_tri[column] >= 0.8)]\n",
    "print(f\"Removing strong correlated columns: {to_drop}\")\n",
    "\n",
    "df.drop(columns=to_drop, axis=1,inplace=True)\n",
    "\n",
    "\n",
    "#df[df.columns] = StandardScaler().fit_transform(df[df.columns])\n",
    "\n",
    "display(df.head())\n",
    "display(df.info(show_counts=True))\n"
   ]
  },
  {
   "cell_type": "code",
   "execution_count": 7,
   "id": "1e77115c-2976-4623-85ec-126d55139587",
   "metadata": {},
   "outputs": [],
   "source": [
    "sample = df.sample(10000,random_state=42)"
   ]
  },
  {
   "cell_type": "code",
   "execution_count": 8,
   "id": "e0a087ed-167f-4daa-ad3a-560a35c68154",
   "metadata": {},
   "outputs": [
    {
     "name": "stdout",
     "output_type": "stream",
     "text": [
      "Estimated number of clusters: 13\n",
      "Estimated number of noise points: 3955\n",
      "Silhouette Coefficient: 0.359\n"
     ]
    }
   ],
   "source": [
    "# #############################################################################\n",
    "# Compute DBSCAN\n",
    "from sklearn import metrics\n",
    "from sklearn.cluster import DBSCAN\n",
    "db = DBSCAN(eps=0.5, min_samples=100).fit(sample)\n",
    "core_samples_mask = np.zeros_like(db.labels_, dtype=bool)\n",
    "core_samples_mask[db.core_sample_indices_] = True\n",
    "\n",
    "sample[\"labels\"] = labels = db.labels_\n",
    "\n",
    "# Number of clusters in labels, ignoring noise if present.\n",
    "n_clusters_ = len(set(labels)) - (1 if -1 in labels else 0)\n",
    "n_noise_ = list(labels).count(-1)\n",
    "\n",
    "print(\"Estimated number of clusters: %d\" % n_clusters_)\n",
    "print(\"Estimated number of noise points: %d\" % n_noise_)\n",
    "#print(\"Homogeneity: %0.3f\" % metrics.homogeneity_score(labels_true, labels))\n",
    "#print(\"Completeness: %0.3f\" % metrics.completeness_score(labels_true, labels))\n",
    "#print(\"V-measure: %0.3f\" % metrics.v_measure_score(labels_true, labels))\n",
    "#print(\"Adjusted Rand Index: %0.3f\" % metrics.adjusted_rand_score(labels_true, labels))\n",
    "#print(\n",
    "#    \"Adjusted Mutual Information: %0.3f\"\n",
    "#    % metrics.adjusted_mutual_info_score(labels_true, labels)\n",
    "#)\n",
    "print(\"Silhouette Coefficient: %0.3f\" % metrics.silhouette_score(sample, labels))"
   ]
  },
  {
   "cell_type": "code",
   "execution_count": 14,
   "id": "45442714-54c3-499e-8bef-23118dd4523d",
   "metadata": {},
   "outputs": [
    {
     "data": {
      "text/plain": [
       "-1     3955\n",
       " 0     2721\n",
       " 1     1554\n",
       " 2      247\n",
       " 3      228\n",
       " 4      203\n",
       " 5      199\n",
       " 10     151\n",
       " 7      141\n",
       " 9      131\n",
       " 11     130\n",
       " 6      123\n",
       " 12     117\n",
       " 8      100\n",
       "Name: labels, dtype: int64"
      ]
     },
     "execution_count": 14,
     "metadata": {},
     "output_type": "execute_result"
    }
   ],
   "source": [
    "sample.labels.value_counts()"
   ]
  },
  {
   "cell_type": "code",
   "execution_count": 10,
   "id": "4a5c3264-8d2c-4047-96c0-cb8708c0f235",
   "metadata": {},
   "outputs": [
    {
     "data": {
      "image/png": "[encoded data removed]",
      "text/plain": [
       "<Figure size 1440x720 with 1 Axes>"
      ]
     },
     "metadata": {
      "needs_background": "light"
     },
     "output_type": "display_data"
    }
   ],
   "source": [
    "# #############################################################################\n",
    "# Plot result\n",
    "import matplotlib.pyplot as plt\n",
    "\n",
    "# Black removed and is used for noise instead.\n",
    "unique_labels = set(labels)\n",
    "colors = [plt.cm.Spectral(each) for each in np.linspace(0, 1, len(unique_labels))]\n",
    "\n",
    "fig = plt.figure(figsize=(20,10))\n",
    "ax = plt.gca()\n",
    "\n",
    "for k, col in zip(unique_labels, colors):\n",
    "    if k == -1:\n",
    "        # Black used for noise.\n",
    "        col = [0, 0, 0, 1]\n",
    "\n",
    "    class_member_mask = labels == k\n",
    "\n",
    "    xy = sample[class_member_mask & core_samples_mask]\n",
    "    plt.plot(xy.out_degree,xy.in_degree,\"o\",markerfacecolor=tuple(col),markeredgecolor=\"k\",markersize=14)\n",
    "\n",
    "    xy = sample[class_member_mask & ~core_samples_mask]\n",
    "    plt.plot(xy.out_degree, xy.in_degree,\"o\",markerfacecolor=tuple(col),markeredgecolor=\"k\",markersize=6)\n",
    "\n",
    "ax.set_yscale('log')\n",
    "ax.set_xscale('log')\n",
    "\n",
    "plt.title(\"LogxLog DBScan results \\n Estimated number of clusters: %d\" % n_clusters_)\n",
    "\n",
    "plt.xlabel(\"Out Degree\") # X-axis label\n",
    "plt.ylabel(\"In Degree\") # Y-axis label\n",
    "plt.show()"
   ]
  },
  {
   "cell_type": "code",
   "execution_count": 11,
   "id": "238dee8d-fd36-44f8-9ade-01d8401fbf4a",
   "metadata": {},
   "outputs": [
    {
     "data": {
      "text/html": [
       "<div>\n",
       "<style scoped>\n",
       "    .dataframe tbody tr th:only-of-type {\n",
       "        vertical-align: middle;\n",
       "    }\n",
       "\n",
       "    .dataframe tbody tr th {\n",
       "        vertical-align: top;\n",
       "    }\n",
       "\n",
       "    .dataframe thead th {\n",
       "        text-align: right;\n",
       "    }\n",
       "</style>\n",
       "<table border=\"1\" class=\"dataframe\">\n",
       "  <thead>\n",
       "    <tr style=\"text-align: right;\">\n",
       "      <th></th>\n",
       "      <th>out_degree</th>\n",
       "      <th>in_degree</th>\n",
       "      <th>labels</th>\n",
       "    </tr>\n",
       "    <tr>\n",
       "      <th>clusterid</th>\n",
       "      <th></th>\n",
       "      <th></th>\n",
       "      <th></th>\n",
       "    </tr>\n",
       "  </thead>\n",
       "  <tbody>\n",
       "    <tr>\n",
       "      <th>212297077</th>\n",
       "      <td>5</td>\n",
       "      <td>5</td>\n",
       "      <td>-1</td>\n",
       "    </tr>\n",
       "    <tr>\n",
       "      <th>616998708</th>\n",
       "      <td>1</td>\n",
       "      <td>2</td>\n",
       "      <td>0</td>\n",
       "    </tr>\n",
       "    <tr>\n",
       "      <th>702391028</th>\n",
       "      <td>1</td>\n",
       "      <td>2</td>\n",
       "      <td>0</td>\n",
       "    </tr>\n",
       "    <tr>\n",
       "      <th>80712892</th>\n",
       "      <td>1</td>\n",
       "      <td>19</td>\n",
       "      <td>-1</td>\n",
       "    </tr>\n",
       "    <tr>\n",
       "      <th>814171283</th>\n",
       "      <td>1</td>\n",
       "      <td>2</td>\n",
       "      <td>0</td>\n",
       "    </tr>\n",
       "  </tbody>\n",
       "</table>\n",
       "</div>"
      ],
      "text/plain": [
       "           out_degree  in_degree  labels\n",
       "clusterid                               \n",
       "212297077           5          5      -1\n",
       "616998708           1          2       0\n",
       "702391028           1          2       0\n",
       "80712892            1         19      -1\n",
       "814171283           1          2       0"
      ]
     },
     "execution_count": 11,
     "metadata": {},
     "output_type": "execute_result"
    }
   ],
   "source": [
    "sample.head()"
   ]
  }
 ],
 "metadata": {
  "kernelspec": {
   "display_name": "btc_fraud_detct",
   "language": "python",
   "name": "btc_fraud_detct"
  },
  "language_info": {
   "codemirror_mode": {
    "name": "ipython",
    "version": 3
   },
   "file_extension": ".py",
   "mimetype": "text/x-python",
   "name": "python",
   "nbconvert_exporter": "python",
   "pygments_lexer": "ipython3",
   "version": "3.8.10"
  }
 },
 "nbformat": 4,
 "nbformat_minor": 5
}
