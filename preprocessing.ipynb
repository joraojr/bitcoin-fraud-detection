{
 "cells": [
  {
   "cell_type": "code",
   "execution_count": 1,
   "id": "99ccb559-c7a0-49a9-9430-ef133cce9821",
   "metadata": {
    "pycharm": {
     "name": "#%%\n"
    }
   },
   "outputs": [],
   "source": [
    "import pandas as pd\n",
    "import numpy as np\n",
    "import matplotlib.pyplot as plt\n",
    "import glob\n",
    "import seaborn as sns"
   ]
  },
  {
   "cell_type": "code",
   "execution_count": 2,
   "id": "d5af4c36-621c-487b-955a-4fb9ccae8d99",
   "metadata": {
    "pycharm": {
     "name": "#%%\n"
    }
   },
   "outputs": [
    {
     "name": "stdout",
     "output_type": "stream",
     "text": [
      "\n",
      " Loading data\n",
      "\n",
      " End loading data\n"
     ]
    }
   ],
   "source": [
    "#df = pd.read_csv(\"data/testdata_000000000001.csv\", index_col=\"clusterid\")\n",
    "\n",
    "\n",
    "# col_names = {\n",
    "#     \"out_degree\": \"OTD\",\n",
    "#     \"in_degree\": \"IND\",\n",
    "#     \"total_degree\": \"TLD\",\n",
    "#     \"active_days\": \"ACT\",\n",
    "#     \"degree_per_active_day\": \"DACT\",\n",
    "#     \"total_amount_received\": \"TAR\",\n",
    "#     \"avg_amount_received\": \"AAR\",\n",
    "#     \"total_amount_sent\": \"TAS\",\n",
    "#     \"avg_amount_sent\": \"AAS\",\n",
    "# }\n",
    "\n",
    "\n",
    "# col_dtypes = {\n",
    "#     \"out_degree\":np. uint32,\n",
    "#     \"in_degree\": np. uint32,\n",
    "#     \"total_degree\": np. uint32,\n",
    "#     \"active_days\": np. uint32,\n",
    "#     \"degree_per_active_day\": np. ufloat32,\n",
    "#     \"total_amount_received\": np. uint32,\n",
    "#     \"avg_amount_received\": np. ufloat32,\n",
    "#     \"total_amount_sent\": np. uint32,\n",
    "#     \"avg_amount_sent\": np. ufloat32,\n",
    "# }\n",
    "\n",
    "print(\"\\n Loading data\")\n",
    "df = pd.concat([pd.read_csv(f,index_col=\"clusterid\") for f in glob.glob('../export/wuexport/export/testdata_*.csv')])\n",
    "#df.rename(columns = col_names, inplace= True)\n",
    "print(\"\\n End loading data\")\n"
   ]
  },
  {
   "cell_type": "code",
   "execution_count": 3,
   "id": "3a21a6ac-5638-4c70-85b4-cb82ea4deea0",
   "metadata": {},
   "outputs": [],
   "source": [
    "df.drop(columns=[\"first_activity\"], axis=1,inplace=True)"
   ]
  },
  {
   "cell_type": "code",
   "execution_count": 4,
   "id": "98eb4131-73b8-486d-9a20-a555476b9d62",
   "metadata": {
    "pycharm": {
     "name": "#%%\n"
    }
   },
   "outputs": [
    {
     "name": "stdout",
     "output_type": "stream",
     "text": [
      "<class 'pandas.core.frame.DataFrame'>\n",
      "Int64Index: 256138652 entries, 10127818 to 30408088\n",
      "Data columns (total 12 columns):\n",
      " #   Column                 Non-Null Count      Dtype  \n",
      "---  ------                 --------------      -----  \n",
      " 0   out_degree             256138652 non-null  int64  \n",
      " 1   in_degree              256138652 non-null  int64  \n",
      " 2   total_degree           256138652 non-null  int64  \n",
      " 3   active_days            256138652 non-null  int64  \n",
      " 4   degree_per_active_day  256138652 non-null  float64\n",
      " 5   total_amount_received  256138652 non-null  int64  \n",
      " 6   avg_amount_received    256138652 non-null  float64\n",
      " 7   total_amount_sent      256138652 non-null  int64  \n",
      " 8   avg_amount_sent        256138652 non-null  float64\n",
      " 9   avg_active_hour_utc    256138652 non-null  float64\n",
      " 10  final_balance          256138652 non-null  int64  \n",
      " 11  avg_utxo_age           256138652 non-null  float64\n",
      "dtypes: float64(5), int64(7)\n",
      "memory usage: 24.8 GB\n"
     ]
    }
   ],
   "source": [
    "df.info(show_counts=True)"
   ]
  },
  {
   "cell_type": "code",
   "execution_count": 5,
   "id": "36a41417-eeb2-4ed5-a637-037a149a1b7b",
   "metadata": {},
   "outputs": [
    {
     "data": {
      "text/html": [
       "<div>\n",
       "<style scoped>\n",
       "    .dataframe tbody tr th:only-of-type {\n",
       "        vertical-align: middle;\n",
       "    }\n",
       "\n",
       "    .dataframe tbody tr th {\n",
       "        vertical-align: top;\n",
       "    }\n",
       "\n",
       "    .dataframe thead th {\n",
       "        text-align: right;\n",
       "    }\n",
       "</style>\n",
       "<table border=\"1\" class=\"dataframe\">\n",
       "  <thead>\n",
       "    <tr style=\"text-align: right;\">\n",
       "      <th></th>\n",
       "      <th>out_degree</th>\n",
       "      <th>in_degree</th>\n",
       "      <th>total_degree</th>\n",
       "      <th>active_days</th>\n",
       "      <th>degree_per_active_day</th>\n",
       "      <th>total_amount_received</th>\n",
       "      <th>avg_amount_received</th>\n",
       "      <th>total_amount_sent</th>\n",
       "      <th>avg_amount_sent</th>\n",
       "      <th>avg_active_hour_utc</th>\n",
       "      <th>final_balance</th>\n",
       "      <th>avg_utxo_age</th>\n",
       "    </tr>\n",
       "    <tr>\n",
       "      <th>clusterid</th>\n",
       "      <th></th>\n",
       "      <th></th>\n",
       "      <th></th>\n",
       "      <th></th>\n",
       "      <th></th>\n",
       "      <th></th>\n",
       "      <th></th>\n",
       "      <th></th>\n",
       "      <th></th>\n",
       "      <th></th>\n",
       "      <th></th>\n",
       "      <th></th>\n",
       "    </tr>\n",
       "  </thead>\n",
       "  <tbody>\n",
       "    <tr>\n",
       "      <th>10127818</th>\n",
       "      <td>101</td>\n",
       "      <td>125</td>\n",
       "      <td>226</td>\n",
       "      <td>1362</td>\n",
       "      <td>0.091777</td>\n",
       "      <td>227049542</td>\n",
       "      <td>2.248015e+06</td>\n",
       "      <td>218711470</td>\n",
       "      <td>1.749692e+06</td>\n",
       "      <td>13.696000</td>\n",
       "      <td>5699417</td>\n",
       "      <td>172.000000</td>\n",
       "    </tr>\n",
       "    <tr>\n",
       "      <th>7219</th>\n",
       "      <td>984597</td>\n",
       "      <td>1114334</td>\n",
       "      <td>2098931</td>\n",
       "      <td>1435</td>\n",
       "      <td>776.539373</td>\n",
       "      <td>4449639103884</td>\n",
       "      <td>4.519249e+06</td>\n",
       "      <td>4417966164890</td>\n",
       "      <td>3.964670e+06</td>\n",
       "      <td>11.973782</td>\n",
       "      <td>3023</td>\n",
       "      <td>148.333333</td>\n",
       "    </tr>\n",
       "    <tr>\n",
       "      <th>10311192</th>\n",
       "      <td>26</td>\n",
       "      <td>11</td>\n",
       "      <td>37</td>\n",
       "      <td>32</td>\n",
       "      <td>0.343750</td>\n",
       "      <td>29625190</td>\n",
       "      <td>1.139430e+06</td>\n",
       "      <td>29597685</td>\n",
       "      <td>2.690699e+06</td>\n",
       "      <td>10.909091</td>\n",
       "      <td>0</td>\n",
       "      <td>0.000000</td>\n",
       "    </tr>\n",
       "    <tr>\n",
       "      <th>25333163</th>\n",
       "      <td>19</td>\n",
       "      <td>2</td>\n",
       "      <td>21</td>\n",
       "      <td>5</td>\n",
       "      <td>0.400000</td>\n",
       "      <td>163167542</td>\n",
       "      <td>8.587765e+06</td>\n",
       "      <td>163162935</td>\n",
       "      <td>8.158147e+07</td>\n",
       "      <td>7.500000</td>\n",
       "      <td>0</td>\n",
       "      <td>0.000000</td>\n",
       "    </tr>\n",
       "    <tr>\n",
       "      <th>90929</th>\n",
       "      <td>104865</td>\n",
       "      <td>114154</td>\n",
       "      <td>219019</td>\n",
       "      <td>2937</td>\n",
       "      <td>38.867552</td>\n",
       "      <td>1475715936756</td>\n",
       "      <td>1.407253e+07</td>\n",
       "      <td>1472871174439</td>\n",
       "      <td>1.290249e+07</td>\n",
       "      <td>11.591079</td>\n",
       "      <td>1133500</td>\n",
       "      <td>2468.000000</td>\n",
       "    </tr>\n",
       "  </tbody>\n",
       "</table>\n",
       "</div>"
      ],
      "text/plain": [
       "           out_degree  in_degree  total_degree  active_days  \\\n",
       "clusterid                                                     \n",
       "10127818          101        125           226         1362   \n",
       "7219           984597    1114334       2098931         1435   \n",
       "10311192           26         11            37           32   \n",
       "25333163           19          2            21            5   \n",
       "90929          104865     114154        219019         2937   \n",
       "\n",
       "           degree_per_active_day  total_amount_received  avg_amount_received  \\\n",
       "clusterid                                                                      \n",
       "10127818                0.091777              227049542         2.248015e+06   \n",
       "7219                  776.539373          4449639103884         4.519249e+06   \n",
       "10311192                0.343750               29625190         1.139430e+06   \n",
       "25333163                0.400000              163167542         8.587765e+06   \n",
       "90929                  38.867552          1475715936756         1.407253e+07   \n",
       "\n",
       "           total_amount_sent  avg_amount_sent  avg_active_hour_utc  \\\n",
       "clusterid                                                            \n",
       "10127818           218711470     1.749692e+06            13.696000   \n",
       "7219           4417966164890     3.964670e+06            11.973782   \n",
       "10311192            29597685     2.690699e+06            10.909091   \n",
       "25333163           163162935     8.158147e+07             7.500000   \n",
       "90929          1472871174439     1.290249e+07            11.591079   \n",
       "\n",
       "           final_balance  avg_utxo_age  \n",
       "clusterid                               \n",
       "10127818         5699417    172.000000  \n",
       "7219                3023    148.333333  \n",
       "10311192               0      0.000000  \n",
       "25333163               0      0.000000  \n",
       "90929            1133500   2468.000000  "
      ]
     },
     "execution_count": 5,
     "metadata": {},
     "output_type": "execute_result"
    }
   ],
   "source": [
    "df.head()"
   ]
  },
  {
   "cell_type": "code",
   "execution_count": 6,
   "id": "a0d566ce-433c-4b0f-8912-83d10799d341",
   "metadata": {
    "pycharm": {
     "name": "#%%\n"
    }
   },
   "outputs": [
    {
     "data": {
      "image/png": "[encoded data removed]",
      "text/plain": [
       "<Figure size 720x360 with 2 Axes>"
      ]
     },
     "metadata": {
      "needs_background": "light"
     },
     "output_type": "display_data"
    }
   ],
   "source": [
    "corr = df.corr().abs()\n",
    "\n",
    "fig, ax = plt.subplots(figsize=(10,5))  \n",
    "\n",
    "hm = sns.heatmap(corr, annot = True, fmt=\"0.3f\",  mask = ~np.tril(np.ones(corr.shape)).astype(bool), ax=ax)\n",
    "\n",
    "hm.set(xlabel='Dataset features', ylabel='Dataset features') #title = \"Correlation matrix of Bitcoin 2009-2022 features\\n\")\n",
    "\n",
    "#plt.yticks(rotation=45) \n",
    "#plt.xticks(rotation=45) \n",
    "\n",
    "plt.savefig(\"heatmap.pdf\",bbox_inches='tight')\n",
    "plt.show()"
   ]
  },
  {
   "cell_type": "code",
   "execution_count": 7,
   "id": "48b4716c-7da4-4479-ab95-eeaf569744fb",
   "metadata": {},
   "outputs": [],
   "source": [
    "df.drop(columns=[\"total_degree\"], axis=1,inplace=True)"
   ]
  },
  {
   "cell_type": "code",
   "execution_count": 8,
   "id": "71085f5e-07b0-4359-9a75-bfa253947325",
   "metadata": {
    "pycharm": {
     "name": "#%%\n"
    }
   },
   "outputs": [
    {
     "data": {
      "text/html": [
       "<div>\n",
       "<style scoped>\n",
       "    .dataframe tbody tr th:only-of-type {\n",
       "        vertical-align: middle;\n",
       "    }\n",
       "\n",
       "    .dataframe tbody tr th {\n",
       "        vertical-align: top;\n",
       "    }\n",
       "\n",
       "    .dataframe thead th {\n",
       "        text-align: right;\n",
       "    }\n",
       "</style>\n",
       "<table border=\"1\" class=\"dataframe\">\n",
       "  <thead>\n",
       "    <tr style=\"text-align: right;\">\n",
       "      <th></th>\n",
       "      <th>out_degree</th>\n",
       "      <th>in_degree</th>\n",
       "      <th>active_days</th>\n",
       "      <th>degree_per_active_day</th>\n",
       "      <th>total_amount_received</th>\n",
       "      <th>avg_amount_received</th>\n",
       "      <th>total_amount_sent</th>\n",
       "      <th>avg_amount_sent</th>\n",
       "      <th>avg_active_hour_utc</th>\n",
       "      <th>final_balance</th>\n",
       "      <th>avg_utxo_age</th>\n",
       "    </tr>\n",
       "    <tr>\n",
       "      <th>clusterid</th>\n",
       "      <th></th>\n",
       "      <th></th>\n",
       "      <th></th>\n",
       "      <th></th>\n",
       "      <th></th>\n",
       "      <th></th>\n",
       "      <th></th>\n",
       "      <th></th>\n",
       "      <th></th>\n",
       "      <th></th>\n",
       "      <th></th>\n",
       "    </tr>\n",
       "  </thead>\n",
       "  <tbody>\n",
       "    <tr>\n",
       "      <th>10127818</th>\n",
       "      <td>100.0</td>\n",
       "      <td>123.0</td>\n",
       "      <td>1361.0</td>\n",
       "      <td>-1.908223</td>\n",
       "      <td>7.104369</td>\n",
       "      <td>-0.019457</td>\n",
       "      <td>6.804139</td>\n",
       "      <td>-0.008882</td>\n",
       "      <td>0.063273</td>\n",
       "      <td>5699417.0</td>\n",
       "      <td>172.000000</td>\n",
       "    </tr>\n",
       "    <tr>\n",
       "      <th>7219</th>\n",
       "      <td>984596.0</td>\n",
       "      <td>1114332.0</td>\n",
       "      <td>1434.0</td>\n",
       "      <td>774.539373</td>\n",
       "      <td>141570.762249</td>\n",
       "      <td>0.083054</td>\n",
       "      <td>139846.689978</td>\n",
       "      <td>0.159005</td>\n",
       "      <td>-0.093293</td>\n",
       "      <td>3023.0</td>\n",
       "      <td>148.333333</td>\n",
       "    </tr>\n",
       "    <tr>\n",
       "      <th>10311192</th>\n",
       "      <td>25.0</td>\n",
       "      <td>9.0</td>\n",
       "      <td>31.0</td>\n",
       "      <td>-1.656250</td>\n",
       "      <td>0.823064</td>\n",
       "      <td>-0.069492</td>\n",
       "      <td>0.817909</td>\n",
       "      <td>0.062443</td>\n",
       "      <td>-0.190083</td>\n",
       "      <td>0.0</td>\n",
       "      <td>0.000000</td>\n",
       "    </tr>\n",
       "    <tr>\n",
       "      <th>25333163</th>\n",
       "      <td>18.0</td>\n",
       "      <td>0.0</td>\n",
       "      <td>4.0</td>\n",
       "      <td>-1.600000</td>\n",
       "      <td>5.071883</td>\n",
       "      <td>0.266683</td>\n",
       "      <td>5.045799</td>\n",
       "      <td>6.042048</td>\n",
       "      <td>-0.500000</td>\n",
       "      <td>0.0</td>\n",
       "      <td>0.000000</td>\n",
       "    </tr>\n",
       "    <tr>\n",
       "      <th>90929</th>\n",
       "      <td>104864.0</td>\n",
       "      <td>114152.0</td>\n",
       "      <td>2936.0</td>\n",
       "      <td>36.867552</td>\n",
       "      <td>46951.644790</td>\n",
       "      <td>0.514234</td>\n",
       "      <td>46622.314526</td>\n",
       "      <td>0.836456</td>\n",
       "      <td>-0.128084</td>\n",
       "      <td>1133500.0</td>\n",
       "      <td>2468.000000</td>\n",
       "    </tr>\n",
       "  </tbody>\n",
       "</table>\n",
       "</div>"
      ],
      "text/plain": [
       "           out_degree  in_degree  active_days  degree_per_active_day  \\\n",
       "clusterid                                                              \n",
       "10127818        100.0      123.0       1361.0              -1.908223   \n",
       "7219         984596.0  1114332.0       1434.0             774.539373   \n",
       "10311192         25.0        9.0         31.0              -1.656250   \n",
       "25333163         18.0        0.0          4.0              -1.600000   \n",
       "90929        104864.0   114152.0       2936.0              36.867552   \n",
       "\n",
       "           total_amount_received  avg_amount_received  total_amount_sent  \\\n",
       "clusterid                                                                  \n",
       "10127818                7.104369            -0.019457           6.804139   \n",
       "7219               141570.762249             0.083054      139846.689978   \n",
       "10311192                0.823064            -0.069492           0.817909   \n",
       "25333163                5.071883             0.266683           5.045799   \n",
       "90929               46951.644790             0.514234       46622.314526   \n",
       "\n",
       "           avg_amount_sent  avg_active_hour_utc  final_balance  avg_utxo_age  \n",
       "clusterid                                                                     \n",
       "10127818         -0.008882             0.063273      5699417.0    172.000000  \n",
       "7219              0.159005            -0.093293         3023.0    148.333333  \n",
       "10311192          0.062443            -0.190083            0.0      0.000000  \n",
       "25333163          6.042048            -0.500000            0.0      0.000000  \n",
       "90929             0.836456            -0.128084      1133500.0   2468.000000  "
      ]
     },
     "execution_count": 8,
     "metadata": {},
     "output_type": "execute_result"
    }
   ],
   "source": [
    "from sklearn.preprocessing import RobustScaler\n",
    "\n",
    "df[df.columns] = RobustScaler().fit_transform(df[df.columns])\n",
    "\n",
    "df.head()\n"
   ]
  },
  {
   "cell_type": "code",
   "execution_count": null,
   "id": "65469933",
   "metadata": {
    "collapsed": false,
    "jupyter": {
     "outputs_hidden": false
    },
    "pycharm": {
     "name": "#%%\n"
    }
   },
   "outputs": [
    {
     "name": "stdout",
     "output_type": "stream",
     "text": [
      "\n",
      " Saving Results\n"
     ]
    }
   ],
   "source": [
    "print(\"\\n Saving Results\")\n",
    "\n",
    "df.to_csv(\"new_data/preprocessing_data_scaler.csv\")\n",
    "\n",
    "print(\"\\n Results save\")\n"
   ]
  },
  {
   "cell_type": "code",
   "execution_count": null,
   "id": "1407a241-769f-4370-b1ea-6459fbcacdba",
   "metadata": {},
   "outputs": [],
   "source": []
  }
 ],
 "metadata": {
  "kernelspec": {
   "display_name": "Python 3 (ipykernel)",
   "language": "python",
   "name": "python3"
  },
  "language_info": {
   "codemirror_mode": {
    "name": "ipython",
    "version": 3
   },
   "file_extension": ".py",
   "mimetype": "text/x-python",
   "name": "python",
   "nbconvert_exporter": "python",
   "pygments_lexer": "ipython3",
   "version": "3.9.12"
  }
 },
 "nbformat": 4,
 "nbformat_minor": 5
}
